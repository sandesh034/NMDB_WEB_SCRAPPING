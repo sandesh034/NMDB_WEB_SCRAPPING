{
 "cells": [
  {
   "cell_type": "code",
   "execution_count": 1,
   "metadata": {
    "id": "wEsCMgZ3Embh"
   },
   "outputs": [],
   "source": [
    "import pandas as pd\n",
    "import requests\n",
    "from bs4 import BeautifulSoup"
   ]
  },
  {
   "cell_type": "code",
   "execution_count": null,
   "metadata": {
    "colab": {
     "base_uri": "https://localhost:8080/",
     "height": 444
    },
    "id": "Hf31pjH3E6_h",
    "outputId": "fd05cf06-db2c-4aee-81be-76b376bdee8a"
   },
   "outputs": [],
   "source": [
    "\n",
    "movie_data = []\n",
    "error_movie_ID=[598,790,802,809,826]\n",
    "for movieID in range(512, 885):\n",
    "    url = f\"https://nmdb.film.gov.np/movie-details/{movieID}\"\n",
    "    status_code=requests.get(url).status_code\n",
    "\n",
    "    if status_code==404:\n",
    "      continue\n",
    "\n",
    "    webpage = requests.get(url).text\n",
    "    soup = BeautifulSoup(webpage, 'html.parser')\n",
    "\n",
    "    movie_card = soup.find('div', class_='movie-detail-info')\n",
    "\n",
    "    movie_dict = {\n",
    "        'name': movie_card.find('h4').text,\n",
    "        'duration': movie_card.find_all('li')[1].text,\n",
    "        'genre': movie_card.find_all('li')[2].text,\n",
    "        'release_date': movie_card.find_all('li')[3].text\n",
    "    }\n",
    "\n",
    "    items = movie_card.find_all('p')\n",
    "\n",
    "    for i in range(1, len(items)):\n",
    "        key = items[i].find('strong').text\n",
    "        values = [value.text for value in items[i].find_all('a')]\n",
    "        movie_dict[key] = values[0] if (len(values)==1) else values\n",
    "\n",
    "    movie_data.append(movie_dict)\n",
    "\n",
    "json_movie_data = json.dumps(movie_data, indent=2)\n",
    "\n",
    "with open('Nepali_Movie_Data.json', 'w') as f:\n",
    "    f.write(json_movie_data)\n"
   ]
  },
  {
   "cell_type": "code",
   "execution_count": 143,
   "metadata": {
    "id": "c2v0egqJG4v4"
   },
   "outputs": [],
   "source": []
  }
 ],
 "metadata": {
  "colab": {
   "provenance": []
  },
  "kernelspec": {
   "display_name": "Python 3 (ipykernel)",
   "language": "python",
   "name": "python3"
  },
  "language_info": {
   "codemirror_mode": {
    "name": "ipython",
    "version": 3
   },
   "file_extension": ".py",
   "mimetype": "text/x-python",
   "name": "python",
   "nbconvert_exporter": "python",
   "pygments_lexer": "ipython3",
   "version": "3.11.5"
  }
 },
 "nbformat": 4,
 "nbformat_minor": 1
}
